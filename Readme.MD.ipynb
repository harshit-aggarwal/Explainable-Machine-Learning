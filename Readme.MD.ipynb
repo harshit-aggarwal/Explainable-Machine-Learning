{
 "cells": [
  {
   "cell_type": "markdown",
   "id": "54a36a5d",
   "metadata": {},
   "source": [
    "# Home Mortgage Disclosure Act Data Model Card"
   ]
  },
  {
   "cell_type": "markdown",
   "id": "9066e6fd",
   "metadata": {},
   "source": [
    "### Basic Information\n",
    "\n",
    "Person or organization developing model: Harshit Aggarwal and Harsharan Gorli, haggarwal17@gwu.edu\n",
    "\n",
    "Model date: June, 2022\n",
    "\n",
    "Model version: 1.0\n",
    "\n",
    "License: MIT\n",
    "\n",
    "Model implementation code: \n",
    "\n"
   ]
  },
  {
   "cell_type": "markdown",
   "id": "21e24803",
   "metadata": {},
   "source": [
    "\n",
    "### Intended Use\n",
    "\n",
    "\n",
    "* Primary intended uses: To predict whether or not the annual percentage rate (APR) for a mortgage is 150 basis points (1.5%) or more above a survey-based estoamte of similar mortgages\n",
    "* Primary intended users: This is an example model and not deployment ready meant for students\n",
    "* Out-of-scope use cases: Any use beyond an educational example is out-of-scope    \n",
    "* Business value: As this model has been developed for academic purposes it should not be applied or used in real life. \n",
    "* Usage: This model should be only used for learning or reviewing purposes to create explainable models to avoid biases.\n",
    "   "
   ]
  },
  {
   "cell_type": "markdown",
   "id": "887afc0e",
   "metadata": {},
   "source": [
    "### Training Data\n",
    "\n",
    "| Name | Modeling Role | Measurement Level | Description |\n",
    "| ---- | ------------- | ----------------- | ----------- |\n",
    "| conforming | Input | Binary int | whether the mortgage conforms to normal standards (1), or whether the loan is different (0)|\n",
    "| debt_to_income_ratio_std | input | int | standardized debt-to-income ratio for mortgage applicants|\n",
    "| debt_to_income_ratio_missing | input | Binary int | missing marker (1) for debt to income ratio std|\n",
    "| income_std | input | int | standardized income for mortgage applicants|\n",
    "| loan_amount_std | input | int | standardized amount of the mortgage for applicants|\n",
    "| intro_rate_period_std | input | int | standardized introductory rate period for mortgage applicants|\n",
    "| loan_to_value_ratio_std | input | int | ratio of the mortgage size to the value of the property for mortgage applicants|\n",
    "| no_intro_rate_period_std| input | Binary int | whether or not a mortgage does not include an introductory rate period |\n",
    "| property_value_std | input | int | value of the mortgaged property|\n",
    "| term_360 | input | int | whether the mortgage is a standard 360 month mortgage (1) or a different type of mortgage (0)|\n",
    "| high_priced | target/output | Binary int | whether (1) or not (0) the annual percentage rate (APR) charged for a mortgage is 150 basis points (1.5%) or more above a survey-based estimate of similar mortgages|\n",
    "| row_id | ID | int |  unique row identifier |\n",
    "| male | demographic information | int | whether a person identifies as male (1) or not male (0)|\n",
    "| female | demographic information | int | whether a person identifies as female (1) or not female (0)|\n",
    "| black | demographic information | int | whether a person identifies as black (1) or not black (0)|\n",
    "| asian | demographic information | int | whether a person identifies as asian (1) or not asian (0)|\n",
    "| white | demographic information | int | whether a person identifies as white (1) or not white (0)|\n",
    "| amind | demographic information | int | whether a person identifies as amind (1) or not amind (0)|\n",
    "| hipac | demographic information | int | whether a person identifies as hipac (1) or not hipac (0)|\n",
    "| hispanic | demographic information | int | whether a person identifies as hispanic (1) or not hispanic (0)|\n",
    "| non_hispanic | demographic information | int | whether a person identifies as non_hispanic (1) or not non_hispanic (0)|\n",
    "| agegte62 | demographic information | int | whether a person is over the age of 62 (1) or not over the age of 62 (0)|\n",
    "| agelt62E | demographic information | int | whether a person is below the age of 62 (1) or not below the age of 62 (0)|\n",
    "\n",
    "\n",
    "\n",
    "\n",
    "Source of training data: https://github.com/jphall663/GWU_rml/tree/master/assignments/data\n",
    "\n",
    "How training data was divided into training and validation data: \n",
    "\n",
    "* 70% training data  \n",
    "* 30% validation data\n",
    "\n",
    "Number of rows in training and validation data: \n",
    "\n",
    "* Training data: 112253 rows\n",
    "* Validation data: 48085 rows\n",
    "\n",
    "Engineered Columns:\n",
    "\n",
    "None"
   ]
  },
  {
   "cell_type": "markdown",
   "id": "9453288d",
   "metadata": {},
   "source": [
    "### Evaluation Data\n",
    "\n",
    "Source of evaluation data: https://github.com/jphall663/GWU_rml/tree/master/assignments/data\n",
    "\n",
    "Number of rows in test data:\n",
    "    \n",
    "    19830 rows\n",
    "    \n",
    "Differences between training and test data:\n",
    "\n",
    "None"
   ]
  },
  {
   "cell_type": "markdown",
   "id": "19b91c74",
   "metadata": {},
   "source": [
    "### Model Details\n",
    "\n",
    "Columns used as inputs in the final model: conforming, debt_to_income_std, debt_to_income_ratio_missing, income_std, loan_amount_std, intro_rate_period_std, loan_to_value_ratio_std, no_intro_rate_period_std, property_value_std, term_360\n",
    "\n",
    "Columns used as outputs in the final model: high_priced\n",
    "\n",
    "\n",
    "\n",
    "\n"
   ]
  },
  {
   "cell_type": "code",
   "execution_count": null,
   "id": "23d62dd4",
   "metadata": {},
   "outputs": [],
   "source": []
  }
 ],
 "metadata": {
  "kernelspec": {
   "display_name": "Python 3",
   "language": "python",
   "name": "python3"
  },
  "language_info": {
   "codemirror_mode": {
    "name": "ipython",
    "version": 3
   },
   "file_extension": ".py",
   "mimetype": "text/x-python",
   "name": "python",
   "nbconvert_exporter": "python",
   "pygments_lexer": "ipython3",
   "version": "3.8.8"
  }
 },
 "nbformat": 4,
 "nbformat_minor": 5
}
